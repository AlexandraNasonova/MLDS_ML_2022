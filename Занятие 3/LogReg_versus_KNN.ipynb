{
  "nbformat": 4,
  "nbformat_minor": 0,
  "metadata": {
    "colab": {
      "provenance": []
    },
    "kernelspec": {
      "name": "python3",
      "display_name": "Python 3"
    },
    "language_info": {
      "name": "python"
    }
  },
  "cells": [
    {
      "cell_type": "markdown",
      "source": [
        "В этом ноутбуке:\n",
        "*  будем сравнивать KNN и логистическую регрессию на реальных данных\n",
        "*  будем пробовать классические подходы в ML:\n",
        "  - кросс-валидация\n",
        "  - class_weights\n",
        "  - GridSearch\n",
        "  - feature engineering\n",
        "  - pipelines\n"
      ],
      "metadata": {
        "id": "Q7ytv2GMjpGZ"
      }
    },
    {
      "cell_type": "code",
      "source": [
        "# подключить библиотеки\n",
        "%matplotlib inline\n",
        "import matplotlib.pyplot as plt\n",
        "import numpy as np\n",
        "import pandas as pd\n",
        "\n",
        "import warnings\n",
        "warnings.filterwarnings(\"ignore\")"
      ],
      "metadata": {
        "id": "aPDB2wP8jndz"
      },
      "execution_count": 1,
      "outputs": []
    },
    {
      "cell_type": "code",
      "source": [
        "# считать данные\n",
        "data = pd.read_csv('ClientsData.csv')"
      ],
      "metadata": {
        "id": "7Zw7RmtAjn8O"
      },
      "execution_count": 2,
      "outputs": []
    },
    {
      "cell_type": "code",
      "source": [
        "data.head()"
      ],
      "metadata": {
        "colab": {
          "base_uri": "https://localhost:8080/",
          "height": 270
        },
        "id": "3QbRGWqJjxOv",
        "outputId": "ce472c61-db70-42c5-e6bd-02873048b445"
      },
      "execution_count": 3,
      "outputs": [
        {
          "output_type": "execute_result",
          "data": {
            "text/plain": [
              "   AGE  SOCSTATUS_WORK_FL  SOCSTATUS_PENS_FL  GENDER  CHILD_TOTAL  DEPENDANTS  \\\n",
              "0   49                  1                  0       1            2           1   \n",
              "1   32                  1                  0       1            3           3   \n",
              "2   52                  1                  0       1            4           0   \n",
              "3   39                  1                  0       1            1           1   \n",
              "4   30                  1                  0       0            0           0   \n",
              "\n",
              "   PERSONAL_INCOME  LOAN_NUM_TOTAL  LOAN_NUM_CLOSED  LOAN_DLQ_NUM  TARGET  \n",
              "0           5000.0               1                1             2       0  \n",
              "1          12000.0               1                1             1       0  \n",
              "2           9000.0               2                1             0       0  \n",
              "3          25000.0               1                1             3       0  \n",
              "4          12000.0               2                1             2       0  "
            ],
            "text/html": [
              "\n",
              "  <div id=\"df-28e8353c-44a9-4993-b798-4d6b43155dc4\">\n",
              "    <div class=\"colab-df-container\">\n",
              "      <div>\n",
              "<style scoped>\n",
              "    .dataframe tbody tr th:only-of-type {\n",
              "        vertical-align: middle;\n",
              "    }\n",
              "\n",
              "    .dataframe tbody tr th {\n",
              "        vertical-align: top;\n",
              "    }\n",
              "\n",
              "    .dataframe thead th {\n",
              "        text-align: right;\n",
              "    }\n",
              "</style>\n",
              "<table border=\"1\" class=\"dataframe\">\n",
              "  <thead>\n",
              "    <tr style=\"text-align: right;\">\n",
              "      <th></th>\n",
              "      <th>AGE</th>\n",
              "      <th>SOCSTATUS_WORK_FL</th>\n",
              "      <th>SOCSTATUS_PENS_FL</th>\n",
              "      <th>GENDER</th>\n",
              "      <th>CHILD_TOTAL</th>\n",
              "      <th>DEPENDANTS</th>\n",
              "      <th>PERSONAL_INCOME</th>\n",
              "      <th>LOAN_NUM_TOTAL</th>\n",
              "      <th>LOAN_NUM_CLOSED</th>\n",
              "      <th>LOAN_DLQ_NUM</th>\n",
              "      <th>TARGET</th>\n",
              "    </tr>\n",
              "  </thead>\n",
              "  <tbody>\n",
              "    <tr>\n",
              "      <th>0</th>\n",
              "      <td>49</td>\n",
              "      <td>1</td>\n",
              "      <td>0</td>\n",
              "      <td>1</td>\n",
              "      <td>2</td>\n",
              "      <td>1</td>\n",
              "      <td>5000.0</td>\n",
              "      <td>1</td>\n",
              "      <td>1</td>\n",
              "      <td>2</td>\n",
              "      <td>0</td>\n",
              "    </tr>\n",
              "    <tr>\n",
              "      <th>1</th>\n",
              "      <td>32</td>\n",
              "      <td>1</td>\n",
              "      <td>0</td>\n",
              "      <td>1</td>\n",
              "      <td>3</td>\n",
              "      <td>3</td>\n",
              "      <td>12000.0</td>\n",
              "      <td>1</td>\n",
              "      <td>1</td>\n",
              "      <td>1</td>\n",
              "      <td>0</td>\n",
              "    </tr>\n",
              "    <tr>\n",
              "      <th>2</th>\n",
              "      <td>52</td>\n",
              "      <td>1</td>\n",
              "      <td>0</td>\n",
              "      <td>1</td>\n",
              "      <td>4</td>\n",
              "      <td>0</td>\n",
              "      <td>9000.0</td>\n",
              "      <td>2</td>\n",
              "      <td>1</td>\n",
              "      <td>0</td>\n",
              "      <td>0</td>\n",
              "    </tr>\n",
              "    <tr>\n",
              "      <th>3</th>\n",
              "      <td>39</td>\n",
              "      <td>1</td>\n",
              "      <td>0</td>\n",
              "      <td>1</td>\n",
              "      <td>1</td>\n",
              "      <td>1</td>\n",
              "      <td>25000.0</td>\n",
              "      <td>1</td>\n",
              "      <td>1</td>\n",
              "      <td>3</td>\n",
              "      <td>0</td>\n",
              "    </tr>\n",
              "    <tr>\n",
              "      <th>4</th>\n",
              "      <td>30</td>\n",
              "      <td>1</td>\n",
              "      <td>0</td>\n",
              "      <td>0</td>\n",
              "      <td>0</td>\n",
              "      <td>0</td>\n",
              "      <td>12000.0</td>\n",
              "      <td>2</td>\n",
              "      <td>1</td>\n",
              "      <td>2</td>\n",
              "      <td>0</td>\n",
              "    </tr>\n",
              "  </tbody>\n",
              "</table>\n",
              "</div>\n",
              "      <button class=\"colab-df-convert\" onclick=\"convertToInteractive('df-28e8353c-44a9-4993-b798-4d6b43155dc4')\"\n",
              "              title=\"Convert this dataframe to an interactive table.\"\n",
              "              style=\"display:none;\">\n",
              "        \n",
              "  <svg xmlns=\"http://www.w3.org/2000/svg\" height=\"24px\"viewBox=\"0 0 24 24\"\n",
              "       width=\"24px\">\n",
              "    <path d=\"M0 0h24v24H0V0z\" fill=\"none\"/>\n",
              "    <path d=\"M18.56 5.44l.94 2.06.94-2.06 2.06-.94-2.06-.94-.94-2.06-.94 2.06-2.06.94zm-11 1L8.5 8.5l.94-2.06 2.06-.94-2.06-.94L8.5 2.5l-.94 2.06-2.06.94zm10 10l.94 2.06.94-2.06 2.06-.94-2.06-.94-.94-2.06-.94 2.06-2.06.94z\"/><path d=\"M17.41 7.96l-1.37-1.37c-.4-.4-.92-.59-1.43-.59-.52 0-1.04.2-1.43.59L10.3 9.45l-7.72 7.72c-.78.78-.78 2.05 0 2.83L4 21.41c.39.39.9.59 1.41.59.51 0 1.02-.2 1.41-.59l7.78-7.78 2.81-2.81c.8-.78.8-2.07 0-2.86zM5.41 20L4 18.59l7.72-7.72 1.47 1.35L5.41 20z\"/>\n",
              "  </svg>\n",
              "      </button>\n",
              "      \n",
              "  <style>\n",
              "    .colab-df-container {\n",
              "      display:flex;\n",
              "      flex-wrap:wrap;\n",
              "      gap: 12px;\n",
              "    }\n",
              "\n",
              "    .colab-df-convert {\n",
              "      background-color: #E8F0FE;\n",
              "      border: none;\n",
              "      border-radius: 50%;\n",
              "      cursor: pointer;\n",
              "      display: none;\n",
              "      fill: #1967D2;\n",
              "      height: 32px;\n",
              "      padding: 0 0 0 0;\n",
              "      width: 32px;\n",
              "    }\n",
              "\n",
              "    .colab-df-convert:hover {\n",
              "      background-color: #E2EBFA;\n",
              "      box-shadow: 0px 1px 2px rgba(60, 64, 67, 0.3), 0px 1px 3px 1px rgba(60, 64, 67, 0.15);\n",
              "      fill: #174EA6;\n",
              "    }\n",
              "\n",
              "    [theme=dark] .colab-df-convert {\n",
              "      background-color: #3B4455;\n",
              "      fill: #D2E3FC;\n",
              "    }\n",
              "\n",
              "    [theme=dark] .colab-df-convert:hover {\n",
              "      background-color: #434B5C;\n",
              "      box-shadow: 0px 1px 3px 1px rgba(0, 0, 0, 0.15);\n",
              "      filter: drop-shadow(0px 1px 2px rgba(0, 0, 0, 0.3));\n",
              "      fill: #FFFFFF;\n",
              "    }\n",
              "  </style>\n",
              "\n",
              "      <script>\n",
              "        const buttonEl =\n",
              "          document.querySelector('#df-28e8353c-44a9-4993-b798-4d6b43155dc4 button.colab-df-convert');\n",
              "        buttonEl.style.display =\n",
              "          google.colab.kernel.accessAllowed ? 'block' : 'none';\n",
              "\n",
              "        async function convertToInteractive(key) {\n",
              "          const element = document.querySelector('#df-28e8353c-44a9-4993-b798-4d6b43155dc4');\n",
              "          const dataTable =\n",
              "            await google.colab.kernel.invokeFunction('convertToInteractive',\n",
              "                                                     [key], {});\n",
              "          if (!dataTable) return;\n",
              "\n",
              "          const docLinkHtml = 'Like what you see? Visit the ' +\n",
              "            '<a target=\"_blank\" href=https://colab.research.google.com/notebooks/data_table.ipynb>data table notebook</a>'\n",
              "            + ' to learn more about interactive tables.';\n",
              "          element.innerHTML = '';\n",
              "          dataTable['output_type'] = 'display_data';\n",
              "          await google.colab.output.renderOutput(dataTable, element);\n",
              "          const docLink = document.createElement('div');\n",
              "          docLink.innerHTML = docLinkHtml;\n",
              "          element.appendChild(docLink);\n",
              "        }\n",
              "      </script>\n",
              "    </div>\n",
              "  </div>\n",
              "  "
            ]
          },
          "metadata": {},
          "execution_count": 3
        }
      ]
    },
    {
      "cell_type": "code",
      "source": [
        "data.shape"
      ],
      "metadata": {
        "colab": {
          "base_uri": "https://localhost:8080/"
        },
        "id": "UZz-ce-QnzaU",
        "outputId": "8d38478f-9782-4481-cf76-bb6bf2c3f7f3"
      },
      "execution_count": 4,
      "outputs": [
        {
          "output_type": "execute_result",
          "data": {
            "text/plain": [
              "(15223, 11)"
            ]
          },
          "metadata": {},
          "execution_count": 4
        }
      ]
    },
    {
      "cell_type": "markdown",
      "source": [
        "В этом ноутбуке нам придется подбирать гиперпараметры модели, а ещё и порог, поэтому чтобы не переобучиться, разобъем данные на трейн, валидацию и тест.\n",
        "\n",
        "*  обучать модели будем на тренировочных данных\n",
        "*  подбирать необходимые величины - по валидации\n",
        "*  оценивать качество - на тесте"
      ],
      "metadata": {
        "id": "HbnaQJxw2mHQ"
      }
    },
    {
      "cell_type": "code",
      "source": [
        "# разделим данные на обучающую и тестовую выборки\n",
        "from sklearn.model_selection import train_test_split\n",
        "\n",
        "X = data.drop('TARGET', axis=1)\n",
        "y = data['TARGET']\n",
        "\n",
        "Xtrain, Xtest, ytrain, ytest = train_test_split(X, y, train_size=0.7)\n",
        "Xtrain, Xval, ytrain, yval = train_test_split(Xtrain, ytrain, train_size=0.7)"
      ],
      "metadata": {
        "id": "bkG1LjB0s81d"
      },
      "execution_count": 51,
      "outputs": []
    },
    {
      "cell_type": "markdown",
      "source": [
        "## KNN\n",
        "\n",
        "Обучим на тренировочных данных KNN с параметрами по умолчанию и оценим качество на тестовых данных"
      ],
      "metadata": {
        "id": "9g3cyUKPqgqu"
      }
    },
    {
      "cell_type": "code",
      "source": [
        "from sklearn.neighbors import KNeighborsClassifier"
      ],
      "metadata": {
        "id": "efySFKgej1_1"
      },
      "execution_count": 52,
      "outputs": []
    },
    {
      "cell_type": "code",
      "source": [
        "knn = KNeighborsClassifier()\n",
        "knn.fit(Xtrain, ytrain)"
      ],
      "metadata": {
        "colab": {
          "base_uri": "https://localhost:8080/"
        },
        "id": "QzR_npzTj5OC",
        "outputId": "493abf8a-246c-4453-9a62-1ec8a9a51dfd"
      },
      "execution_count": 53,
      "outputs": [
        {
          "output_type": "execute_result",
          "data": {
            "text/plain": [
              "KNeighborsClassifier()"
            ]
          },
          "metadata": {},
          "execution_count": 53
        }
      ]
    },
    {
      "cell_type": "code",
      "source": [
        "pred_knn = knn.predict(Xtest)"
      ],
      "metadata": {
        "id": "0PWCCKurkI_o"
      },
      "execution_count": 54,
      "outputs": []
    },
    {
      "cell_type": "markdown",
      "source": [
        "Будем смотреть на такие метрики:\n",
        "*  матрица ошибок\n",
        "*  precision (точность), recall (полнота)\n",
        "*  f1-score\n",
        "\n",
        "Позже разберем подробности этих метрик."
      ],
      "metadata": {
        "id": "xb9O8PVctga2"
      }
    },
    {
      "cell_type": "code",
      "source": [
        "from sklearn.metrics import confusion_matrix\n",
        "from sklearn.metrics import precision_score, recall_score, f1_score"
      ],
      "metadata": {
        "id": "x6PyXyz6tiQ1"
      },
      "execution_count": 55,
      "outputs": []
    },
    {
      "cell_type": "code",
      "source": [
        "confusion_matrix(ytest, pred_knn)"
      ],
      "metadata": {
        "colab": {
          "base_uri": "https://localhost:8080/"
        },
        "id": "zDFpwFXvYh6c",
        "outputId": "8c67cedc-b42e-457e-adf8-4d6ef3e55eec"
      },
      "execution_count": 56,
      "outputs": [
        {
          "output_type": "execute_result",
          "data": {
            "text/plain": [
              "array([[3951,   90],\n",
              "       [ 511,   15]])"
            ]
          },
          "metadata": {},
          "execution_count": 56
        }
      ]
    },
    {
      "cell_type": "code",
      "source": [
        "precision_score(ytest, pred_knn), recall_score(ytest, pred_knn), f1_score(ytest, pred_knn)"
      ],
      "metadata": {
        "colab": {
          "base_uri": "https://localhost:8080/"
        },
        "id": "LTM3S23brMez",
        "outputId": "8b809b44-7342-432d-f014-d2e3c670c023"
      },
      "execution_count": 57,
      "outputs": [
        {
          "output_type": "execute_result",
          "data": {
            "text/plain": [
              "(0.14285714285714285, 0.028517110266159697, 0.04754358161648178)"
            ]
          },
          "metadata": {},
          "execution_count": 57
        }
      ]
    },
    {
      "cell_type": "markdown",
      "source": [
        "Запустим ячейки от разбиения данных и до оценки метрик еще раз."
      ],
      "metadata": {
        "id": "4auLxM5Px0Hh"
      }
    },
    {
      "cell_type": "markdown",
      "source": [
        "Результаты сильно поменялись!\n",
        "\n",
        "Чтобы больше доверять результатам, используем кросс-валидацию."
      ],
      "metadata": {
        "id": "np34BFzux9oP"
      }
    },
    {
      "cell_type": "markdown",
      "source": [
        "## Кросс-валидация"
      ],
      "metadata": {
        "id": "P0obkk5Dy9Uc"
      }
    },
    {
      "cell_type": "code",
      "source": [
        "from sklearn.model_selection import cross_val_score\n",
        "\n",
        "print(cross_val_score(KNeighborsClassifier(), X, y, cv=3, scoring='f1'))\n",
        "print(cross_val_score(KNeighborsClassifier(), X, y, cv=3, scoring='f1').mean())\n",
        "print(cross_val_score(KNeighborsClassifier(), X, y, cv=3, scoring='f1').std())"
      ],
      "metadata": {
        "colab": {
          "base_uri": "https://localhost:8080/"
        },
        "id": "J2FV7-XOyCUB",
        "outputId": "7432d431-99c8-4701-a606-358e53dda1f5"
      },
      "execution_count": 60,
      "outputs": [
        {
          "output_type": "stream",
          "name": "stdout",
          "text": [
            "[0.07052186 0.05849582 0.05052006]\n",
            "0.05984591431317815\n",
            "0.008221317279827209\n"
          ]
        }
      ]
    },
    {
      "cell_type": "markdown",
      "source": [
        "Есть второй способ сделать кросс-валидацию."
      ],
      "metadata": {
        "id": "S-LP4emzyXA-"
      }
    },
    {
      "cell_type": "code",
      "source": [
        "from sklearn.model_selection import cross_validate\n",
        "\n",
        "res = cross_validate(KNeighborsClassifier(), X, y, cv=3, scoring='f1')\n",
        "res"
      ],
      "metadata": {
        "colab": {
          "base_uri": "https://localhost:8080/"
        },
        "id": "Pu5bVeVoyZzO",
        "outputId": "beb43fdc-b7b5-44cf-8a21-889c8887ac15"
      },
      "execution_count": 61,
      "outputs": [
        {
          "output_type": "execute_result",
          "data": {
            "text/plain": [
              "{'fit_time': array([0.02492237, 0.0167017 , 0.01774311]),\n",
              " 'score_time': array([0.19464517, 0.20372963, 0.19234657]),\n",
              " 'test_score': array([0.07052186, 0.05849582, 0.05052006])}"
            ]
          },
          "metadata": {},
          "execution_count": 61
        }
      ]
    },
    {
      "cell_type": "markdown",
      "source": [
        "Можно измерять несколько метрик одновременно."
      ],
      "metadata": {
        "id": "B6TOwSweyi3r"
      }
    },
    {
      "cell_type": "code",
      "source": [
        "res = cross_validate(KNeighborsClassifier(), X, y, cv=3, scoring=['f1','accuracy'])\n",
        "res"
      ],
      "metadata": {
        "colab": {
          "base_uri": "https://localhost:8080/"
        },
        "id": "G8pYyrbCylX8",
        "outputId": "36210c8a-aa16-4a70-f2f5-f63dff139f7a"
      },
      "execution_count": 62,
      "outputs": [
        {
          "output_type": "execute_result",
          "data": {
            "text/plain": [
              "{'fit_time': array([0.03260851, 0.01660895, 0.01663971]),\n",
              " 'score_time': array([0.24892712, 0.1956799 , 0.19623923]),\n",
              " 'test_f1': array([0.07052186, 0.05849582, 0.05052006]),\n",
              " 'test_accuracy': array([0.87014778, 0.86677178, 0.87406385])}"
            ]
          },
          "metadata": {},
          "execution_count": 62
        }
      ]
    },
    {
      "cell_type": "markdown",
      "source": [
        "Можно смотреть качество и на трейне."
      ],
      "metadata": {
        "id": "n4uGYYzkyp3q"
      }
    },
    {
      "cell_type": "code",
      "source": [
        "res = cross_validate(KNeighborsClassifier(), X, y, cv=3, return_train_score=True, scoring=['f1','accuracy'])\n",
        "res"
      ],
      "metadata": {
        "colab": {
          "base_uri": "https://localhost:8080/"
        },
        "id": "9K7Vn4I6ysMl",
        "outputId": "e85882f2-0438-4876-94f2-3ea7c1b008b3"
      },
      "execution_count": 64,
      "outputs": [
        {
          "output_type": "execute_result",
          "data": {
            "text/plain": [
              "{'fit_time': array([0.02276731, 0.01749158, 0.01669693]),\n",
              " 'score_time': array([0.18222713, 0.21282077, 0.22580242]),\n",
              " 'test_f1': array([0.07052186, 0.05849582, 0.05052006]),\n",
              " 'train_f1': array([0.15674891, 0.19972067, 0.19422942]),\n",
              " 'test_accuracy': array([0.87014778, 0.86677178, 0.87406385]),\n",
              " 'train_accuracy': array([0.88549468, 0.88708247, 0.887181  ])}"
            ]
          },
          "metadata": {},
          "execution_count": 64
        }
      ]
    },
    {
      "cell_type": "markdown",
      "source": [
        "Какой вывод можно сделать:\n",
        "- для класса 0 — клиент не откликнулся — мы получили достаточно высокие значения TP в том числе потому, что этого класса больше;\n",
        "- для класса 1 — клиент откликнулся — мы получили низкие значения TN.\n",
        "\n",
        "Поэтому значения precision и recall низкие. Модель дает неудовлетворительные результаты, так как находит мало клиентов, кто откликнется на предложение.\n",
        "\n"
      ],
      "metadata": {
        "id": "E9Bk7tSerX-L"
      }
    },
    {
      "cell_type": "markdown",
      "source": [
        "## Подбор гиперпараметров"
      ],
      "metadata": {
        "id": "znmdw9jxy_ts"
      }
    },
    {
      "cell_type": "markdown",
      "source": [
        "В цикле подберем число соседей в методе KNN."
      ],
      "metadata": {
        "id": "rgaqVrjdu0GK"
      }
    },
    {
      "cell_type": "code",
      "source": [
        "max_f1 = -1\n",
        "N = -1\n",
        "\n",
        "for n in np.arange(2, 20, 1):\n",
        "    model = KNeighborsClassifier(n_neighbors=n)\n",
        "    model.fit(Xtrain, ytrain)\n",
        "\n",
        "    pred = model.predict(Xval)\n",
        "    \n",
        "    f1 = f1_score(yval, pred)\n",
        "\n",
        "    if f1 > max_f1:\n",
        "        max_f1 = f1\n",
        "        N = n\n",
        "\n",
        "max_f1, N"
      ],
      "metadata": {
        "colab": {
          "base_uri": "https://localhost:8080/"
        },
        "id": "wSV1yFlgu5GS",
        "outputId": "b7ae7fd8-ba0e-406e-f616-2a26704f4dcf"
      },
      "execution_count": 33,
      "outputs": [
        {
          "output_type": "execute_result",
          "data": {
            "text/plain": [
              "(0.08571428571428572, 3)"
            ]
          },
          "metadata": {},
          "execution_count": 33
        }
      ]
    },
    {
      "cell_type": "code",
      "source": [
        "model = KNeighborsClassifier(n_neighbors = 3)\n",
        "model.fit(Xtrain, ytrain)\n",
        "\n",
        "pred = model.predict(Xtest)\n",
        "\n",
        "print(f1_score(ytest, pred))\n",
        "print(confusion_matrix(ytest, pred))"
      ],
      "metadata": {
        "colab": {
          "base_uri": "https://localhost:8080/"
        },
        "id": "2A723YUev_vI",
        "outputId": "773a19f0-1ef8-46d8-b6ac-d0ca788b2628"
      },
      "execution_count": 41,
      "outputs": [
        {
          "output_type": "stream",
          "name": "stdout",
          "text": [
            "0.1090909090909091\n",
            "[[3839  169]\n",
            " [ 517   42]]\n"
          ]
        }
      ]
    },
    {
      "cell_type": "code",
      "source": [
        "precision_score(ytest, pred), recall_score(ytest, pred), f1_score(ytest, pred)"
      ],
      "metadata": {
        "colab": {
          "base_uri": "https://localhost:8080/"
        },
        "id": "b4j-Ylqhxjnr",
        "outputId": "0029e0bb-cd95-4fa4-9558-387f4da51c6a"
      },
      "execution_count": 42,
      "outputs": [
        {
          "output_type": "execute_result",
          "data": {
            "text/plain": [
              "(0.1990521327014218, 0.07513416815742398, 0.1090909090909091)"
            ]
          },
          "metadata": {},
          "execution_count": 42
        }
      ]
    },
    {
      "cell_type": "markdown",
      "source": [
        "## Логистическая регрессия"
      ],
      "metadata": {
        "id": "2b0df-lVzEKT"
      }
    },
    {
      "cell_type": "markdown",
      "source": [
        "Обучите логистическую регрессию с параметрами по умолчанию и посмотрите на метрики.\n",
        "\n",
        "Везде дальше при оценке метрик надо выводить confusion_matrix, precision и recall."
      ],
      "metadata": {
        "id": "zGmfshG9rmBn"
      }
    },
    {
      "cell_type": "code",
      "source": [
        "from sklearn.linear_model import LogisticRegression\n",
        "\n",
        "lr = LogisticRegression()"
      ],
      "metadata": {
        "id": "7tOX78zbrPHB"
      },
      "execution_count": 24,
      "outputs": []
    },
    {
      "cell_type": "code",
      "source": [
        "lr.fit(Xtrain, ytrain)\n",
        "\n",
        "pred_lr = lr.predict(Xtest)"
      ],
      "metadata": {
        "id": "gvNVW51Erzpm"
      },
      "execution_count": 25,
      "outputs": []
    },
    {
      "cell_type": "code",
      "source": [
        "confusion_matrix(ytest, pred_lr)"
      ],
      "metadata": {
        "colab": {
          "base_uri": "https://localhost:8080/"
        },
        "id": "Zic-36QcsGAm",
        "outputId": "9226c0a1-d0fb-4a09-c754-c24804e9b3f7"
      },
      "execution_count": 26,
      "outputs": [
        {
          "output_type": "execute_result",
          "data": {
            "text/plain": [
              "array([[4008,    0],\n",
              "       [ 559,    0]])"
            ]
          },
          "metadata": {},
          "execution_count": 26
        }
      ]
    },
    {
      "cell_type": "code",
      "source": [
        "precision_score(ytest, pred_lr), recall_score(ytest, pred_lr), f1_score(ytest, pred_lr)"
      ],
      "metadata": {
        "colab": {
          "base_uri": "https://localhost:8080/"
        },
        "id": "hUlbYWGMsISy",
        "outputId": "e89f1267-a4d3-401f-e613-a25ba9fdf46f"
      },
      "execution_count": 28,
      "outputs": [
        {
          "output_type": "execute_result",
          "data": {
            "text/plain": [
              "(0.0, 0.0, 0.0)"
            ]
          },
          "metadata": {},
          "execution_count": 28
        }
      ]
    },
    {
      "cell_type": "markdown",
      "source": [
        "Наша цель - найти как можно больше клиентов, кто откликнется на предложение. А модель таких не находит. \n",
        "\n",
        "Предскажите вероятности классов с помощью обученной логистической регрессии на тестовых данных, и выведите вероятности положительного класса для первых 10 объектов.\n",
        "\n",
        "Глядя на полученные вероятности, попробуйте объяснить, почему вы получили именно такую матрицу ошибок и такие значения точности с полноты."
      ],
      "metadata": {
        "id": "CvWGh7m9sTKM"
      }
    },
    {
      "cell_type": "code",
      "source": [
        "probs_test = lr.predict_proba(Xtest)[:,1]\n",
        "probs_test[:10]"
      ],
      "metadata": {
        "colab": {
          "base_uri": "https://localhost:8080/"
        },
        "id": "LNqjcxrwsLzl",
        "outputId": "1b154e30-45f5-4706-e6e6-daef2a2ef9a4"
      },
      "execution_count": 30,
      "outputs": [
        {
          "output_type": "execute_result",
          "data": {
            "text/plain": [
              "array([0.14042412, 0.14107445, 0.19378158, 0.27151564, 0.12612216,\n",
              "       0.04103151, 0.04261878, 0.03656178, 0.08229851, 0.06786435])"
            ]
          },
          "metadata": {},
          "execution_count": 30
        }
      ]
    },
    {
      "cell_type": "markdown",
      "source": [
        "Подберем C."
      ],
      "metadata": {
        "id": "JqGe6aAuxAAk"
      }
    },
    {
      "cell_type": "code",
      "source": [
        "max_f1 = -1\n",
        "Cbest = -1\n",
        "\n",
        "for C in np.arange(0.0001, 10.0001, 1):\n",
        "    model = LogisticRegression(C=C)\n",
        "    model.fit(Xtrain, ytrain)\n",
        "\n",
        "    pred = model.predict(Xval)\n",
        "    \n",
        "    f1 = f1_score(yval, pred)\n",
        "\n",
        "    if f1 > max_f1:\n",
        "        max_f1 = f1\n",
        "        Cbest = C\n",
        "\n",
        "max_f1, Cbest"
      ],
      "metadata": {
        "colab": {
          "base_uri": "https://localhost:8080/"
        },
        "id": "58ZnzApQwiwz",
        "outputId": "2afdc7ad-6366-4f7f-8458-9e4b4304a4c8"
      },
      "execution_count": 88,
      "outputs": [
        {
          "output_type": "execute_result",
          "data": {
            "text/plain": [
              "(0.0, 0.0001)"
            ]
          },
          "metadata": {},
          "execution_count": 88
        }
      ]
    },
    {
      "cell_type": "markdown",
      "source": [
        "## Class_weights\n",
        "\n",
        "Не помогло. Сбалансируем выборку заданием весов."
      ],
      "metadata": {
        "id": "1Tz5bU1UxBtu"
      }
    },
    {
      "cell_type": "code",
      "source": [
        "max_f1 = -1\n",
        "Cbest = -1\n",
        "\n",
        "for C in np.arange(0.0001, 10.0001, 1):\n",
        "    model = LogisticRegression(C=C, class_weight='balanced')\n",
        "    model.fit(Xtrain, ytrain)\n",
        "\n",
        "    pred = model.predict(Xval)\n",
        "    \n",
        "    f1 = f1_score(yval, pred)\n",
        "\n",
        "    if f1 > max_f1:\n",
        "        max_f1 = f1\n",
        "        Cbest = C\n",
        "\n",
        "max_f1, Cbest"
      ],
      "metadata": {
        "colab": {
          "base_uri": "https://localhost:8080/"
        },
        "id": "oF1nHjInxGVn",
        "outputId": "ccf8de77-17df-42dc-9d86-f3507d632a2b"
      },
      "execution_count": 89,
      "outputs": [
        {
          "output_type": "execute_result",
          "data": {
            "text/plain": [
              "(0.26501965188096577, 9.0001)"
            ]
          },
          "metadata": {},
          "execution_count": 89
        }
      ]
    },
    {
      "cell_type": "code",
      "source": [
        "lr = LogisticRegression(C = 9.0001, class_weight='balanced')\n",
        "\n",
        "lr.fit(Xtrain, ytrain)\n",
        "\n",
        "pred = lr.predict(Xtest)\n",
        "\n",
        "confusion_matrix(ytest, pred)"
      ],
      "metadata": {
        "colab": {
          "base_uri": "https://localhost:8080/"
        },
        "id": "mKdShODcxRkM",
        "outputId": "fa3aee4a-e1b2-4ee6-8634-99208ab7d740"
      },
      "execution_count": 90,
      "outputs": [
        {
          "output_type": "execute_result",
          "data": {
            "text/plain": [
              "array([[2397, 1644],\n",
              "       [ 199,  327]])"
            ]
          },
          "metadata": {},
          "execution_count": 90
        }
      ]
    },
    {
      "cell_type": "code",
      "source": [
        "precision_score(ytest, pred), recall_score(ytest, pred), f1_score(ytest, pred)"
      ],
      "metadata": {
        "colab": {
          "base_uri": "https://localhost:8080/"
        },
        "id": "gkEv8U27xbhl",
        "outputId": "b4e57bf6-5c3d-4c9c-b1c2-cd6d0e899384"
      },
      "execution_count": 91,
      "outputs": [
        {
          "output_type": "execute_result",
          "data": {
            "text/plain": [
              "(0.1659056316590563, 0.6216730038022814, 0.2619142971565879)"
            ]
          },
          "metadata": {},
          "execution_count": 91
        }
      ]
    },
    {
      "cell_type": "markdown",
      "source": [
        "## GridSearch"
      ],
      "metadata": {
        "id": "jheTqzhszT2W"
      }
    },
    {
      "cell_type": "code",
      "source": [
        "from sklearn.model_selection import GridSearchCV\n",
        "\n",
        "params = {'C' : np.arange(0.0001, 10.0001, 1),\n",
        "          'class_weight' : [None, 'balanced']}\n",
        "\n",
        "gs = GridSearchCV(LogisticRegression(), params, cv=3, scoring='f1')\n",
        "\n",
        "gs.fit(Xtrain, ytrain)\n",
        "\n",
        "gs.best_score_, gs.best_estimator_"
      ],
      "metadata": {
        "colab": {
          "base_uri": "https://localhost:8080/"
        },
        "id": "sjTW2z4JzWH_",
        "outputId": "73683121-df53-4d32-ff14-f15bb75b6a1d"
      },
      "execution_count": 92,
      "outputs": [
        {
          "output_type": "execute_result",
          "data": {
            "text/plain": [
              "(0.2502734403933388, LogisticRegression(C=2.0001, class_weight='balanced'))"
            ]
          },
          "metadata": {},
          "execution_count": 92
        }
      ]
    },
    {
      "cell_type": "code",
      "source": [
        "lr = gs.best_estimator_\n",
        "\n",
        "lr.fit(Xtrain, ytrain)\n",
        "\n",
        "pred = lr.predict(Xtest)\n",
        "\n",
        "confusion_matrix(ytest, pred)"
      ],
      "metadata": {
        "colab": {
          "base_uri": "https://localhost:8080/"
        },
        "id": "H4itFTaGzisP",
        "outputId": "28fa854c-8341-44c2-e852-37dcc83ef772"
      },
      "execution_count": 93,
      "outputs": [
        {
          "output_type": "execute_result",
          "data": {
            "text/plain": [
              "array([[2397, 1644],\n",
              "       [ 199,  327]])"
            ]
          },
          "metadata": {},
          "execution_count": 93
        }
      ]
    },
    {
      "cell_type": "code",
      "source": [
        "precision_score(ytest, pred), recall_score(ytest, pred), f1_score(ytest, pred)"
      ],
      "metadata": {
        "colab": {
          "base_uri": "https://localhost:8080/"
        },
        "id": "CjhWwRHizxoC",
        "outputId": "0ac85d48-1ca8-4205-8e04-75cd336aab6e"
      },
      "execution_count": 94,
      "outputs": [
        {
          "output_type": "execute_result",
          "data": {
            "text/plain": [
              "(0.1659056316590563, 0.6216730038022814, 0.2619142971565879)"
            ]
          },
          "metadata": {},
          "execution_count": 94
        }
      ]
    },
    {
      "cell_type": "code",
      "source": [
        "cross_val_score(gs.best_estimator_, X, y, cv=3, scoring='f1').mean()"
      ],
      "metadata": {
        "colab": {
          "base_uri": "https://localhost:8080/"
        },
        "id": "T2Iyo9eFz0S5",
        "outputId": "c4a0f9d2-2a48-4645-df65-8d6888226a8d"
      },
      "execution_count": 95,
      "outputs": [
        {
          "output_type": "execute_result",
          "data": {
            "text/plain": [
              "0.25275873035318225"
            ]
          },
          "metadata": {},
          "execution_count": 95
        }
      ]
    },
    {
      "cell_type": "markdown",
      "source": [
        "## Feature Engineering"
      ],
      "metadata": {
        "id": "hSpU1V7b0hkr"
      }
    },
    {
      "cell_type": "code",
      "source": [
        "from sklearn.preprocessing import PolynomialFeatures\n",
        "\n",
        "poly = PolynomialFeatures(degree = 2)\n",
        "poly.fit(Xtrain)\n",
        "\n",
        "X_new = poly.transform(X)\n",
        "Xtrain_new = poly.transform(Xtrain)\n",
        "Xtest_new = poly.transform(Xtest)\n",
        "\n",
        "Xtrain.shape, Xtrain_new.shape"
      ],
      "metadata": {
        "colab": {
          "base_uri": "https://localhost:8080/"
        },
        "id": "Z1ypRBws0xz0",
        "outputId": "1e1cb3a0-369d-4b94-b3e2-473a2a7bf226"
      },
      "execution_count": 96,
      "outputs": [
        {
          "output_type": "execute_result",
          "data": {
            "text/plain": [
              "((7459, 10), (7459, 66))"
            ]
          },
          "metadata": {},
          "execution_count": 96
        }
      ]
    },
    {
      "cell_type": "code",
      "source": [
        "cross_val_score(LogisticRegression(class_weight='balanced', C=2.0001), X_new, y, cv=3, scoring='f1').mean()"
      ],
      "metadata": {
        "colab": {
          "base_uri": "https://localhost:8080/"
        },
        "id": "kLjH2Uq21OgE",
        "outputId": "425ff633-0fe6-4abf-b8ff-e7a538bb7afa"
      },
      "execution_count": 97,
      "outputs": [
        {
          "output_type": "execute_result",
          "data": {
            "text/plain": [
              "0.2221967058048124"
            ]
          },
          "metadata": {},
          "execution_count": 97
        }
      ]
    },
    {
      "cell_type": "markdown",
      "source": [
        "## Pipeline"
      ],
      "metadata": {
        "id": "H6_-EgNn1j9q"
      }
    },
    {
      "cell_type": "markdown",
      "source": [
        "![pipeline.png](data:image/png;base64,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)"
      ],
      "metadata": {
        "id": "D3W7qUpc4ILQ"
      }
    },
    {
      "cell_type": "code",
      "source": [
        "from sklearn.preprocessing import StandardScaler\n",
        "from sklearn.pipeline import Pipeline\n",
        "\n",
        "pipe_model = Pipeline([\n",
        "    ('scaler', StandardScaler()),\n",
        "    ('features', PolynomialFeatures(degree = 2)),\n",
        "    ('model', LogisticRegression(class_weight='balanced', C=2.0001))\n",
        "])"
      ],
      "metadata": {
        "id": "aBXXFlZC1lNf"
      },
      "execution_count": 98,
      "outputs": []
    },
    {
      "cell_type": "code",
      "source": [
        "pipe_model.fit(Xtrain, ytrain)\n",
        "\n",
        "pred = pipe_model.predict(Xtest)\n",
        "\n",
        "confusion_matrix(ytest, pred)"
      ],
      "metadata": {
        "colab": {
          "base_uri": "https://localhost:8080/"
        },
        "id": "-zmahrVf160U",
        "outputId": "bca9e387-b3b1-4648-f89b-39e9f3061500"
      },
      "execution_count": 99,
      "outputs": [
        {
          "output_type": "execute_result",
          "data": {
            "text/plain": [
              "array([[2417, 1624],\n",
              "       [ 184,  342]])"
            ]
          },
          "metadata": {},
          "execution_count": 99
        }
      ]
    },
    {
      "cell_type": "code",
      "source": [
        "precision_score(ytest, pred), recall_score(ytest, pred), f1_score(ytest, pred)"
      ],
      "metadata": {
        "colab": {
          "base_uri": "https://localhost:8080/"
        },
        "id": "LgmJFIH32C4k",
        "outputId": "54589d40-9945-45ea-a234-e8d6182d3f0c"
      },
      "execution_count": 100,
      "outputs": [
        {
          "output_type": "execute_result",
          "data": {
            "text/plain": [
              "(0.17395727365208546, 0.6501901140684411, 0.27447833065810595)"
            ]
          },
          "metadata": {},
          "execution_count": 100
        }
      ]
    },
    {
      "cell_type": "code",
      "source": [
        "pipe_model2 = Pipeline([\n",
        "    ('scaler', StandardScaler()),\n",
        "    ('features', PolynomialFeatures()),\n",
        "    ('model', LogisticRegression())\n",
        "])\n",
        "\n",
        "params = {'model__C' : np.arange(0.0001, 10.0001, 1),\n",
        "          'model__class_weight' : [None, 'balanced'],\n",
        "          'features__degree' : [2, 3, 4, 5]}\n",
        "\n",
        "gs = GridSearchCV(pipe_model2, params, cv=3, scoring='f1', verbose=2)\n",
        "\n",
        "gs.fit(Xtrain, ytrain)\n",
        "\n",
        "gs.best_score_, gs.best_estimator_"
      ],
      "metadata": {
        "colab": {
          "base_uri": "https://localhost:8080/"
        },
        "id": "aZY4nZzY2EPG",
        "outputId": "78ce7c5c-bf8a-45e6-d7e4-febf0afd1d90"
      },
      "execution_count": 101,
      "outputs": [
        {
          "output_type": "stream",
          "name": "stdout",
          "text": [
            "Fitting 3 folds for each of 80 candidates, totalling 240 fits\n",
            "[CV] END features__degree=2, model__C=0.0001, model__class_weight=None; total time=   0.1s\n",
            "[CV] END features__degree=2, model__C=0.0001, model__class_weight=None; total time=   0.0s\n",
            "[CV] END features__degree=2, model__C=0.0001, model__class_weight=None; total time=   0.1s\n",
            "[CV] END features__degree=2, model__C=0.0001, model__class_weight=balanced; total time=   0.1s\n",
            "[CV] END features__degree=2, model__C=0.0001, model__class_weight=balanced; total time=   0.0s\n",
            "[CV] END features__degree=2, model__C=0.0001, model__class_weight=balanced; total time=   0.1s\n",
            "[CV] END features__degree=2, model__C=1.0001, model__class_weight=None; total time=   0.2s\n",
            "[CV] END features__degree=2, model__C=1.0001, model__class_weight=None; total time=   0.2s\n",
            "[CV] END features__degree=2, model__C=1.0001, model__class_weight=None; total time=   0.2s\n",
            "[CV] END features__degree=2, model__C=1.0001, model__class_weight=balanced; total time=   0.2s\n",
            "[CV] END features__degree=2, model__C=1.0001, model__class_weight=balanced; total time=   0.2s\n",
            "[CV] END features__degree=2, model__C=1.0001, model__class_weight=balanced; total time=   0.2s\n",
            "[CV] END features__degree=2, model__C=2.0001, model__class_weight=None; total time=   0.2s\n",
            "[CV] END features__degree=2, model__C=2.0001, model__class_weight=None; total time=   0.2s\n",
            "[CV] END features__degree=2, model__C=2.0001, model__class_weight=None; total time=   0.2s\n",
            "[CV] END features__degree=2, model__C=2.0001, model__class_weight=balanced; total time=   0.2s\n",
            "[CV] END features__degree=2, model__C=2.0001, model__class_weight=balanced; total time=   0.2s\n",
            "[CV] END features__degree=2, model__C=2.0001, model__class_weight=balanced; total time=   0.2s\n",
            "[CV] END features__degree=2, model__C=3.0001, model__class_weight=None; total time=   0.2s\n",
            "[CV] END features__degree=2, model__C=3.0001, model__class_weight=None; total time=   0.2s\n",
            "[CV] END features__degree=2, model__C=3.0001, model__class_weight=None; total time=   0.2s\n",
            "[CV] END features__degree=2, model__C=3.0001, model__class_weight=balanced; total time=   0.2s\n",
            "[CV] END features__degree=2, model__C=3.0001, model__class_weight=balanced; total time=   0.2s\n",
            "[CV] END features__degree=2, model__C=3.0001, model__class_weight=balanced; total time=   0.2s\n",
            "[CV] END features__degree=2, model__C=4.0001, model__class_weight=None; total time=   0.2s\n",
            "[CV] END features__degree=2, model__C=4.0001, model__class_weight=None; total time=   0.2s\n",
            "[CV] END features__degree=2, model__C=4.0001, model__class_weight=None; total time=   0.2s\n",
            "[CV] END features__degree=2, model__C=4.0001, model__class_weight=balanced; total time=   0.2s\n",
            "[CV] END features__degree=2, model__C=4.0001, model__class_weight=balanced; total time=   0.2s\n",
            "[CV] END features__degree=2, model__C=4.0001, model__class_weight=balanced; total time=   0.2s\n",
            "[CV] END features__degree=2, model__C=5.0001, model__class_weight=None; total time=   0.3s\n",
            "[CV] END features__degree=2, model__C=5.0001, model__class_weight=None; total time=   0.2s\n",
            "[CV] END features__degree=2, model__C=5.0001, model__class_weight=None; total time=   0.2s\n",
            "[CV] END features__degree=2, model__C=5.0001, model__class_weight=balanced; total time=   0.2s\n",
            "[CV] END features__degree=2, model__C=5.0001, model__class_weight=balanced; total time=   0.2s\n",
            "[CV] END features__degree=2, model__C=5.0001, model__class_weight=balanced; total time=   0.2s\n",
            "[CV] END features__degree=2, model__C=6.0001, model__class_weight=None; total time=   0.2s\n",
            "[CV] END features__degree=2, model__C=6.0001, model__class_weight=None; total time=   0.2s\n",
            "[CV] END features__degree=2, model__C=6.0001, model__class_weight=None; total time=   0.2s\n",
            "[CV] END features__degree=2, model__C=6.0001, model__class_weight=balanced; total time=   0.2s\n",
            "[CV] END features__degree=2, model__C=6.0001, model__class_weight=balanced; total time=   0.2s\n",
            "[CV] END features__degree=2, model__C=6.0001, model__class_weight=balanced; total time=   0.2s\n",
            "[CV] END features__degree=2, model__C=7.0001, model__class_weight=None; total time=   0.2s\n",
            "[CV] END features__degree=2, model__C=7.0001, model__class_weight=None; total time=   0.2s\n",
            "[CV] END features__degree=2, model__C=7.0001, model__class_weight=None; total time=   0.2s\n",
            "[CV] END features__degree=2, model__C=7.0001, model__class_weight=balanced; total time=   0.2s\n",
            "[CV] END features__degree=2, model__C=7.0001, model__class_weight=balanced; total time=   0.2s\n",
            "[CV] END features__degree=2, model__C=7.0001, model__class_weight=balanced; total time=   0.2s\n",
            "[CV] END features__degree=2, model__C=8.0001, model__class_weight=None; total time=   0.2s\n",
            "[CV] END features__degree=2, model__C=8.0001, model__class_weight=None; total time=   0.2s\n",
            "[CV] END features__degree=2, model__C=8.0001, model__class_weight=None; total time=   0.2s\n",
            "[CV] END features__degree=2, model__C=8.0001, model__class_weight=balanced; total time=   0.2s\n",
            "[CV] END features__degree=2, model__C=8.0001, model__class_weight=balanced; total time=   0.2s\n",
            "[CV] END features__degree=2, model__C=8.0001, model__class_weight=balanced; total time=   0.2s\n",
            "[CV] END features__degree=2, model__C=9.0001, model__class_weight=None; total time=   0.2s\n",
            "[CV] END features__degree=2, model__C=9.0001, model__class_weight=None; total time=   0.1s\n",
            "[CV] END features__degree=2, model__C=9.0001, model__class_weight=None; total time=   0.2s\n",
            "[CV] END features__degree=2, model__C=9.0001, model__class_weight=balanced; total time=   0.2s\n",
            "[CV] END features__degree=2, model__C=9.0001, model__class_weight=balanced; total time=   0.2s\n",
            "[CV] END features__degree=2, model__C=9.0001, model__class_weight=balanced; total time=   0.2s\n",
            "[CV] END features__degree=3, model__C=0.0001, model__class_weight=None; total time=   0.3s\n",
            "[CV] END features__degree=3, model__C=0.0001, model__class_weight=None; total time=   0.2s\n",
            "[CV] END features__degree=3, model__C=0.0001, model__class_weight=None; total time=   0.3s\n",
            "[CV] END features__degree=3, model__C=0.0001, model__class_weight=balanced; total time=   0.3s\n",
            "[CV] END features__degree=3, model__C=0.0001, model__class_weight=balanced; total time=   0.2s\n",
            "[CV] END features__degree=3, model__C=0.0001, model__class_weight=balanced; total time=   0.4s\n",
            "[CV] END features__degree=3, model__C=1.0001, model__class_weight=None; total time=   0.4s\n",
            "[CV] END features__degree=3, model__C=1.0001, model__class_weight=None; total time=   0.3s\n",
            "[CV] END features__degree=3, model__C=1.0001, model__class_weight=None; total time=   0.3s\n",
            "[CV] END features__degree=3, model__C=1.0001, model__class_weight=balanced; total time=   0.3s\n",
            "[CV] END features__degree=3, model__C=1.0001, model__class_weight=balanced; total time=   0.3s\n",
            "[CV] END features__degree=3, model__C=1.0001, model__class_weight=balanced; total time=   0.3s\n",
            "[CV] END features__degree=3, model__C=2.0001, model__class_weight=None; total time=   0.4s\n",
            "[CV] END features__degree=3, model__C=2.0001, model__class_weight=None; total time=   0.4s\n",
            "[CV] END features__degree=3, model__C=2.0001, model__class_weight=None; total time=   0.4s\n",
            "[CV] END features__degree=3, model__C=2.0001, model__class_weight=balanced; total time=   0.4s\n",
            "[CV] END features__degree=3, model__C=2.0001, model__class_weight=balanced; total time=   0.4s\n",
            "[CV] END features__degree=3, model__C=2.0001, model__class_weight=balanced; total time=   0.4s\n",
            "[CV] END features__degree=3, model__C=3.0001, model__class_weight=None; total time=   0.4s\n",
            "[CV] END features__degree=3, model__C=3.0001, model__class_weight=None; total time=   0.3s\n",
            "[CV] END features__degree=3, model__C=3.0001, model__class_weight=None; total time=   0.4s\n",
            "[CV] END features__degree=3, model__C=3.0001, model__class_weight=balanced; total time=   0.3s\n",
            "[CV] END features__degree=3, model__C=3.0001, model__class_weight=balanced; total time=   0.3s\n",
            "[CV] END features__degree=3, model__C=3.0001, model__class_weight=balanced; total time=   0.3s\n",
            "[CV] END features__degree=3, model__C=4.0001, model__class_weight=None; total time=   0.4s\n",
            "[CV] END features__degree=3, model__C=4.0001, model__class_weight=None; total time=   0.4s\n",
            "[CV] END features__degree=3, model__C=4.0001, model__class_weight=None; total time=   0.3s\n",
            "[CV] END features__degree=3, model__C=4.0001, model__class_weight=balanced; total time=   0.4s\n",
            "[CV] END features__degree=3, model__C=4.0001, model__class_weight=balanced; total time=   0.3s\n",
            "[CV] END features__degree=3, model__C=4.0001, model__class_weight=balanced; total time=   0.4s\n",
            "[CV] END features__degree=3, model__C=5.0001, model__class_weight=None; total time=   0.4s\n",
            "[CV] END features__degree=3, model__C=5.0001, model__class_weight=None; total time=   0.4s\n",
            "[CV] END features__degree=3, model__C=5.0001, model__class_weight=None; total time=   0.4s\n",
            "[CV] END features__degree=3, model__C=5.0001, model__class_weight=balanced; total time=   0.4s\n",
            "[CV] END features__degree=3, model__C=5.0001, model__class_weight=balanced; total time=   0.4s\n",
            "[CV] END features__degree=3, model__C=5.0001, model__class_weight=balanced; total time=   0.4s\n",
            "[CV] END features__degree=3, model__C=6.0001, model__class_weight=None; total time=   0.4s\n",
            "[CV] END features__degree=3, model__C=6.0001, model__class_weight=None; total time=   0.4s\n",
            "[CV] END features__degree=3, model__C=6.0001, model__class_weight=None; total time=   0.3s\n",
            "[CV] END features__degree=3, model__C=6.0001, model__class_weight=balanced; total time=   0.3s\n",
            "[CV] END features__degree=3, model__C=6.0001, model__class_weight=balanced; total time=   0.3s\n",
            "[CV] END features__degree=3, model__C=6.0001, model__class_weight=balanced; total time=   0.4s\n",
            "[CV] END features__degree=3, model__C=7.0001, model__class_weight=None; total time=   0.4s\n",
            "[CV] END features__degree=3, model__C=7.0001, model__class_weight=None; total time=   0.4s\n",
            "[CV] END features__degree=3, model__C=7.0001, model__class_weight=None; total time=   0.4s\n",
            "[CV] END features__degree=3, model__C=7.0001, model__class_weight=balanced; total time=   0.4s\n",
            "[CV] END features__degree=3, model__C=7.0001, model__class_weight=balanced; total time=   0.4s\n",
            "[CV] END features__degree=3, model__C=7.0001, model__class_weight=balanced; total time=   0.4s\n",
            "[CV] END features__degree=3, model__C=8.0001, model__class_weight=None; total time=   0.4s\n",
            "[CV] END features__degree=3, model__C=8.0001, model__class_weight=None; total time=   0.4s\n",
            "[CV] END features__degree=3, model__C=8.0001, model__class_weight=None; total time=   0.4s\n",
            "[CV] END features__degree=3, model__C=8.0001, model__class_weight=balanced; total time=   0.4s\n",
            "[CV] END features__degree=3, model__C=8.0001, model__class_weight=balanced; total time=   0.3s\n",
            "[CV] END features__degree=3, model__C=8.0001, model__class_weight=balanced; total time=   0.3s\n",
            "[CV] END features__degree=3, model__C=9.0001, model__class_weight=None; total time=   0.4s\n",
            "[CV] END features__degree=3, model__C=9.0001, model__class_weight=None; total time=   0.4s\n",
            "[CV] END features__degree=3, model__C=9.0001, model__class_weight=None; total time=   0.4s\n",
            "[CV] END features__degree=3, model__C=9.0001, model__class_weight=balanced; total time=   0.4s\n",
            "[CV] END features__degree=3, model__C=9.0001, model__class_weight=balanced; total time=   0.3s\n",
            "[CV] END features__degree=3, model__C=9.0001, model__class_weight=balanced; total time=   0.4s\n",
            "[CV] END features__degree=4, model__C=0.0001, model__class_weight=None; total time=   1.6s\n",
            "[CV] END features__degree=4, model__C=0.0001, model__class_weight=None; total time=   1.8s\n",
            "[CV] END features__degree=4, model__C=0.0001, model__class_weight=None; total time=   1.5s\n",
            "[CV] END features__degree=4, model__C=0.0001, model__class_weight=balanced; total time=   1.5s\n",
            "[CV] END features__degree=4, model__C=0.0001, model__class_weight=balanced; total time=   1.6s\n",
            "[CV] END features__degree=4, model__C=0.0001, model__class_weight=balanced; total time=   1.0s\n",
            "[CV] END features__degree=4, model__C=1.0001, model__class_weight=None; total time=   1.8s\n",
            "[CV] END features__degree=4, model__C=1.0001, model__class_weight=None; total time=   1.5s\n",
            "[CV] END features__degree=4, model__C=1.0001, model__class_weight=None; total time=   1.6s\n",
            "[CV] END features__degree=4, model__C=1.0001, model__class_weight=balanced; total time=   1.4s\n",
            "[CV] END features__degree=4, model__C=1.0001, model__class_weight=balanced; total time=   1.2s\n",
            "[CV] END features__degree=4, model__C=1.0001, model__class_weight=balanced; total time=   1.2s\n",
            "[CV] END features__degree=4, model__C=2.0001, model__class_weight=None; total time=   2.1s\n",
            "[CV] END features__degree=4, model__C=2.0001, model__class_weight=None; total time=   2.1s\n",
            "[CV] END features__degree=4, model__C=2.0001, model__class_weight=None; total time=   1.7s\n",
            "[CV] END features__degree=4, model__C=2.0001, model__class_weight=balanced; total time=   1.9s\n",
            "[CV] END features__degree=4, model__C=2.0001, model__class_weight=balanced; total time=   1.4s\n",
            "[CV] END features__degree=4, model__C=2.0001, model__class_weight=balanced; total time=   1.4s\n",
            "[CV] END features__degree=4, model__C=3.0001, model__class_weight=None; total time=   2.0s\n",
            "[CV] END features__degree=4, model__C=3.0001, model__class_weight=None; total time=   1.5s\n",
            "[CV] END features__degree=4, model__C=3.0001, model__class_weight=None; total time=   1.3s\n",
            "[CV] END features__degree=4, model__C=3.0001, model__class_weight=balanced; total time=   1.7s\n",
            "[CV] END features__degree=4, model__C=3.0001, model__class_weight=balanced; total time=   1.4s\n",
            "[CV] END features__degree=4, model__C=3.0001, model__class_weight=balanced; total time=   1.3s\n",
            "[CV] END features__degree=4, model__C=4.0001, model__class_weight=None; total time=   2.2s\n",
            "[CV] END features__degree=4, model__C=4.0001, model__class_weight=None; total time=   1.2s\n",
            "[CV] END features__degree=4, model__C=4.0001, model__class_weight=None; total time=   1.9s\n",
            "[CV] END features__degree=4, model__C=4.0001, model__class_weight=balanced; total time=   1.5s\n",
            "[CV] END features__degree=4, model__C=4.0001, model__class_weight=balanced; total time=   1.7s\n",
            "[CV] END features__degree=4, model__C=4.0001, model__class_weight=balanced; total time=   1.4s\n",
            "[CV] END features__degree=4, model__C=5.0001, model__class_weight=None; total time=   1.7s\n",
            "[CV] END features__degree=4, model__C=5.0001, model__class_weight=None; total time=   1.7s\n",
            "[CV] END features__degree=4, model__C=5.0001, model__class_weight=None; total time=   1.5s\n",
            "[CV] END features__degree=4, model__C=5.0001, model__class_weight=balanced; total time=   1.4s\n",
            "[CV] END features__degree=4, model__C=5.0001, model__class_weight=balanced; total time=   1.6s\n",
            "[CV] END features__degree=4, model__C=5.0001, model__class_weight=balanced; total time=   1.2s\n",
            "[CV] END features__degree=4, model__C=6.0001, model__class_weight=None; total time=   1.8s\n",
            "[CV] END features__degree=4, model__C=6.0001, model__class_weight=None; total time=   1.4s\n",
            "[CV] END features__degree=4, model__C=6.0001, model__class_weight=None; total time=   1.3s\n",
            "[CV] END features__degree=4, model__C=6.0001, model__class_weight=balanced; total time=   1.2s\n",
            "[CV] END features__degree=4, model__C=6.0001, model__class_weight=balanced; total time=   1.2s\n",
            "[CV] END features__degree=4, model__C=6.0001, model__class_weight=balanced; total time=   1.2s\n",
            "[CV] END features__degree=4, model__C=7.0001, model__class_weight=None; total time=   1.9s\n",
            "[CV] END features__degree=4, model__C=7.0001, model__class_weight=None; total time=   1.3s\n",
            "[CV] END features__degree=4, model__C=7.0001, model__class_weight=None; total time=   1.3s\n",
            "[CV] END features__degree=4, model__C=7.0001, model__class_weight=balanced; total time=   1.5s\n",
            "[CV] END features__degree=4, model__C=7.0001, model__class_weight=balanced; total time=   1.2s\n",
            "[CV] END features__degree=4, model__C=7.0001, model__class_weight=balanced; total time=   1.4s\n",
            "[CV] END features__degree=4, model__C=8.0001, model__class_weight=None; total time=   2.8s\n",
            "[CV] END features__degree=4, model__C=8.0001, model__class_weight=None; total time=   1.7s\n",
            "[CV] END features__degree=4, model__C=8.0001, model__class_weight=None; total time=   2.0s\n",
            "[CV] END features__degree=4, model__C=8.0001, model__class_weight=balanced; total time=   1.7s\n",
            "[CV] END features__degree=4, model__C=8.0001, model__class_weight=balanced; total time=   1.1s\n",
            "[CV] END features__degree=4, model__C=8.0001, model__class_weight=balanced; total time=   1.5s\n",
            "[CV] END features__degree=4, model__C=9.0001, model__class_weight=None; total time=   1.4s\n",
            "[CV] END features__degree=4, model__C=9.0001, model__class_weight=None; total time=   1.3s\n",
            "[CV] END features__degree=4, model__C=9.0001, model__class_weight=None; total time=   1.8s\n",
            "[CV] END features__degree=4, model__C=9.0001, model__class_weight=balanced; total time=   1.5s\n",
            "[CV] END features__degree=4, model__C=9.0001, model__class_weight=balanced; total time=   1.3s\n",
            "[CV] END features__degree=4, model__C=9.0001, model__class_weight=balanced; total time=   1.4s\n",
            "[CV] END features__degree=5, model__C=0.0001, model__class_weight=None; total time=   5.9s\n",
            "[CV] END features__degree=5, model__C=0.0001, model__class_weight=None; total time=   5.9s\n",
            "[CV] END features__degree=5, model__C=0.0001, model__class_weight=None; total time=   6.7s\n",
            "[CV] END features__degree=5, model__C=0.0001, model__class_weight=balanced; total time=   4.0s\n",
            "[CV] END features__degree=5, model__C=0.0001, model__class_weight=balanced; total time=   3.8s\n",
            "[CV] END features__degree=5, model__C=0.0001, model__class_weight=balanced; total time=   4.5s\n",
            "[CV] END features__degree=5, model__C=1.0001, model__class_weight=None; total time=   8.6s\n",
            "[CV] END features__degree=5, model__C=1.0001, model__class_weight=None; total time=   5.2s\n",
            "[CV] END features__degree=5, model__C=1.0001, model__class_weight=None; total time=   5.8s\n",
            "[CV] END features__degree=5, model__C=1.0001, model__class_weight=balanced; total time=   4.8s\n",
            "[CV] END features__degree=5, model__C=1.0001, model__class_weight=balanced; total time=   5.4s\n",
            "[CV] END features__degree=5, model__C=1.0001, model__class_weight=balanced; total time=   6.0s\n",
            "[CV] END features__degree=5, model__C=2.0001, model__class_weight=None; total time=   7.6s\n",
            "[CV] END features__degree=5, model__C=2.0001, model__class_weight=None; total time=   5.3s\n",
            "[CV] END features__degree=5, model__C=2.0001, model__class_weight=None; total time=   7.4s\n",
            "[CV] END features__degree=5, model__C=2.0001, model__class_weight=balanced; total time=   4.7s\n",
            "[CV] END features__degree=5, model__C=2.0001, model__class_weight=balanced; total time=   4.5s\n",
            "[CV] END features__degree=5, model__C=2.0001, model__class_weight=balanced; total time=   5.7s\n",
            "[CV] END features__degree=5, model__C=3.0001, model__class_weight=None; total time=   7.2s\n",
            "[CV] END features__degree=5, model__C=3.0001, model__class_weight=None; total time=   5.0s\n",
            "[CV] END features__degree=5, model__C=3.0001, model__class_weight=None; total time=   5.5s\n",
            "[CV] END features__degree=5, model__C=3.0001, model__class_weight=balanced; total time=   4.9s\n",
            "[CV] END features__degree=5, model__C=3.0001, model__class_weight=balanced; total time=   4.2s\n",
            "[CV] END features__degree=5, model__C=3.0001, model__class_weight=balanced; total time=   4.0s\n",
            "[CV] END features__degree=5, model__C=4.0001, model__class_weight=None; total time=   8.8s\n",
            "[CV] END features__degree=5, model__C=4.0001, model__class_weight=None; total time=   6.2s\n",
            "[CV] END features__degree=5, model__C=4.0001, model__class_weight=None; total time=   6.1s\n",
            "[CV] END features__degree=5, model__C=4.0001, model__class_weight=balanced; total time=   4.0s\n",
            "[CV] END features__degree=5, model__C=4.0001, model__class_weight=balanced; total time=   4.6s\n",
            "[CV] END features__degree=5, model__C=4.0001, model__class_weight=balanced; total time=   4.4s\n",
            "[CV] END features__degree=5, model__C=5.0001, model__class_weight=None; total time=   8.1s\n",
            "[CV] END features__degree=5, model__C=5.0001, model__class_weight=None; total time=   5.8s\n",
            "[CV] END features__degree=5, model__C=5.0001, model__class_weight=None; total time=   5.8s\n",
            "[CV] END features__degree=5, model__C=5.0001, model__class_weight=balanced; total time=   5.7s\n",
            "[CV] END features__degree=5, model__C=5.0001, model__class_weight=balanced; total time=   4.3s\n",
            "[CV] END features__degree=5, model__C=5.0001, model__class_weight=balanced; total time=   4.5s\n",
            "[CV] END features__degree=5, model__C=6.0001, model__class_weight=None; total time=   7.7s\n",
            "[CV] END features__degree=5, model__C=6.0001, model__class_weight=None; total time=   6.4s\n",
            "[CV] END features__degree=5, model__C=6.0001, model__class_weight=None; total time=   6.4s\n",
            "[CV] END features__degree=5, model__C=6.0001, model__class_weight=balanced; total time=   4.7s\n",
            "[CV] END features__degree=5, model__C=6.0001, model__class_weight=balanced; total time=   4.4s\n",
            "[CV] END features__degree=5, model__C=6.0001, model__class_weight=balanced; total time=   4.9s\n",
            "[CV] END features__degree=5, model__C=7.0001, model__class_weight=None; total time=   7.3s\n",
            "[CV] END features__degree=5, model__C=7.0001, model__class_weight=None; total time=   5.7s\n",
            "[CV] END features__degree=5, model__C=7.0001, model__class_weight=None; total time=   7.4s\n",
            "[CV] END features__degree=5, model__C=7.0001, model__class_weight=balanced; total time=   4.0s\n",
            "[CV] END features__degree=5, model__C=7.0001, model__class_weight=balanced; total time=   4.7s\n",
            "[CV] END features__degree=5, model__C=7.0001, model__class_weight=balanced; total time=   4.3s\n",
            "[CV] END features__degree=5, model__C=8.0001, model__class_weight=None; total time=   6.8s\n",
            "[CV] END features__degree=5, model__C=8.0001, model__class_weight=None; total time=   5.8s\n",
            "[CV] END features__degree=5, model__C=8.0001, model__class_weight=None; total time=   7.5s\n",
            "[CV] END features__degree=5, model__C=8.0001, model__class_weight=balanced; total time=   4.6s\n",
            "[CV] END features__degree=5, model__C=8.0001, model__class_weight=balanced; total time=   4.9s\n",
            "[CV] END features__degree=5, model__C=8.0001, model__class_weight=balanced; total time=   6.0s\n",
            "[CV] END features__degree=5, model__C=9.0001, model__class_weight=None; total time=   4.7s\n",
            "[CV] END features__degree=5, model__C=9.0001, model__class_weight=None; total time=   4.1s\n",
            "[CV] END features__degree=5, model__C=9.0001, model__class_weight=None; total time=   5.8s\n",
            "[CV] END features__degree=5, model__C=9.0001, model__class_weight=balanced; total time=   4.2s\n",
            "[CV] END features__degree=5, model__C=9.0001, model__class_weight=balanced; total time=   4.3s\n",
            "[CV] END features__degree=5, model__C=9.0001, model__class_weight=balanced; total time=   4.4s\n"
          ]
        },
        {
          "output_type": "execute_result",
          "data": {
            "text/plain": [
              "(0.2669467760171296, Pipeline(steps=[('scaler', StandardScaler()),\n",
              "                 ('features', PolynomialFeatures()),\n",
              "                 ('model',\n",
              "                  LogisticRegression(C=9.0001, class_weight='balanced'))]))"
            ]
          },
          "metadata": {},
          "execution_count": 101
        }
      ]
    },
    {
      "cell_type": "code",
      "source": [
        "model = gs.best_estimator_\n",
        "\n",
        "model.fit(Xtrain, ytrain)\n",
        "\n",
        "pred = model.predict(Xtest)\n",
        "\n",
        "confusion_matrix(ytest, pred)"
      ],
      "metadata": {
        "colab": {
          "base_uri": "https://localhost:8080/"
        },
        "id": "g2M2O1cP2omo",
        "outputId": "a51c2508-93c9-4c82-8e9f-aa1067c13bcb"
      },
      "execution_count": 102,
      "outputs": [
        {
          "output_type": "execute_result",
          "data": {
            "text/plain": [
              "array([[2413, 1628],\n",
              "       [ 185,  341]])"
            ]
          },
          "metadata": {},
          "execution_count": 102
        }
      ]
    },
    {
      "cell_type": "code",
      "source": [
        "precision_score(ytest, pred), recall_score(ytest, pred), f1_score(ytest, pred)"
      ],
      "metadata": {
        "colab": {
          "base_uri": "https://localhost:8080/"
        },
        "id": "p8uEO1cD2xam",
        "outputId": "39aeb603-f679-475e-96b1-7e8f2c17729b"
      },
      "execution_count": 103,
      "outputs": [
        {
          "output_type": "execute_result",
          "data": {
            "text/plain": [
              "(0.17318435754189945, 0.6482889733840305, 0.2733466933867736)"
            ]
          },
          "metadata": {},
          "execution_count": 103
        }
      ]
    }
  ]
}